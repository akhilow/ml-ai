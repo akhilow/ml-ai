{
 "cells": [
  {
   "cell_type": "code",
   "execution_count": 4,
   "metadata": {},
   "outputs": [
    {
     "name": "stdout",
     "output_type": "stream",
     "text": [
      "              Open    High     Low   Close     Volume  Dividends  Stock Splits\n",
      "Date                                                                          \n",
      "1980-12-12    0.41    0.41    0.41    0.41  117258400        0.0           0.0\n",
      "1980-12-15    0.39    0.39    0.38    0.38   43971200        0.0           0.0\n",
      "1980-12-16    0.36    0.36    0.36    0.36   26432000        0.0           0.0\n",
      "1980-12-17    0.37    0.37    0.37    0.37   21610400        0.0           0.0\n",
      "1980-12-18    0.38    0.38    0.38    0.38   18362400        0.0           0.0\n",
      "...            ...     ...     ...     ...        ...        ...           ...\n",
      "2020-05-18  313.17  316.50  310.32  314.96   33843100        0.0           0.0\n",
      "2020-05-19  315.03  318.52  313.01  313.14   25432400        0.0           0.0\n",
      "2020-05-20  316.68  319.52  316.52  319.23   27876200        0.0           0.0\n",
      "2020-05-21  318.66  320.89  315.87  316.85   25672200        0.0           0.0\n",
      "2020-05-22  315.77  319.23  315.35  318.89   20430600        0.0           0.0\n",
      "\n",
      "[9945 rows x 7 columns]\n"
     ]
    }
   ],
   "source": [
    "import yfinance as yf\n",
    "apple = yf.Ticker(\"AAPL\")\n",
    "hist = apple.history(period='max')\n",
    "print(hist)"
   ]
  },
  {
   "cell_type": "code",
   "execution_count": 1,
   "metadata": {},
   "outputs": [
    {
     "name": "stdout",
     "output_type": "stream",
     "text": [
      "            Open  High   Low  Close   Volume  Dividends  Stock Splits\n",
      "Date                                                                 \n",
      "2019-07-15  1.77  1.77  1.58   1.65  1652000          0             0\n",
      "2019-07-16  1.60  1.70  1.54   1.64  1042100          0             0\n",
      "2019-07-17  1.61  1.61  1.45   1.50  1288000          0             0\n",
      "2019-07-18  1.49  1.58  1.46   1.57   620900          0             0\n",
      "2019-07-19  1.59  1.74  1.58   1.70  1494400          0             0\n",
      "...          ...   ...   ...    ...      ...        ...           ...\n",
      "2020-05-15  3.13  3.13  2.91   2.96  1097900          0             0\n",
      "2020-05-19  3.10  3.13  3.00   3.05   577500          0             0\n",
      "2020-05-20  3.15  3.17  2.92   2.96  1121600          0             0\n",
      "2020-05-21  2.91  2.93  2.76   2.83  1083800          0             0\n",
      "2020-05-22  2.87  2.88  2.62   2.72  1298000          0             0\n",
      "\n",
      "[185 rows x 7 columns]\n"
     ]
    }
   ],
   "source": [
    "import yfinance as yf\n",
    "well = yf.Ticker(\"WELL.TO\")\n",
    "hist = well.history(period='max')\n",
    "print(hist)"
   ]
  },
  {
   "cell_type": "code",
   "execution_count": null,
   "metadata": {},
   "outputs": [],
   "source": []
  }
 ],
 "metadata": {
  "kernelspec": {
   "display_name": "Python 3",
   "language": "python",
   "name": "python3"
  },
  "language_info": {
   "codemirror_mode": {
    "name": "ipython",
    "version": 3
   },
   "file_extension": ".py",
   "mimetype": "text/x-python",
   "name": "python",
   "nbconvert_exporter": "python",
   "pygments_lexer": "ipython3",
   "version": "3.7.6"
  }
 },
 "nbformat": 4,
 "nbformat_minor": 4
}
